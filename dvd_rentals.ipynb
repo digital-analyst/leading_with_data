{
 "cells": [
  {
   "cell_type": "markdown",
   "metadata": {
    "id": "RE9MwT0F34kU"
   },
   "source": [
    "# The Pagila Database\n",
    "\n",
    "One of the best example databases out there is the <a href=\"https://dev.mysql.com/doc/sakila/en/\">Sakila Database</a>, which was originally created by MySQL and has been open sourced under the terms of the BSD License.\n",
    "\n",
    "The Sakila database is a nicely normalised schema modelling a DVD rental store, featuring things like films, actors, film-actor relationships, and a central inventory table that connects films, stores, and rentals.\n",
    "\n",
    "There is a port of Sakila database within PostgreSQL environment and it is named <a href=\"https://wiki.postgresql.org/wiki/Sample_Databases\">Pagila Database</a>. This ported database version is what we're using for this class.\n",
    "\n",
    "<img width=\"1200px\" src=\"https://user-images.githubusercontent.com/7065401/58504872-fa243b00-8161-11e9-85ed-4b7d8d7ce9f7.png\" />"
   ]
  },
  {
   "cell_type": "markdown",
   "metadata": {
    "id": "JRWZlmWg34ka"
   },
   "source": [
    "![purple-divider](https://user-images.githubusercontent.com/7065401/52071927-c1cd7100-2562-11e9-908a-dde91ba14e59.png)\n",
    "\n",
    "## Hands on! "
   ]
  },
  {
   "cell_type": "code",
   "execution_count": null,
   "metadata": {
    "colab": {
     "base_uri": "https://localhost:8080/"
    },
    "id": "HSzgbZsO34kb",
    "outputId": "5c2ce8be-5a08-457e-e640-2c1b5b441498"
   },
   "outputs": [],
   "source": [
    "# Do below only when user is in Google Colab\n",
    "!pip install psycopg2-binary\n",
    "\n",
    "# The rest can be done anywhere else (Google Colab or not)\n",
    "import psycopg2 # This is python driver to connect to PostgreSQL database\n",
    "import numpy as np\n",
    "import pandas as pd\n",
    "import matplotlib.pyplot as plt\n",
    "\n",
    "# Allow display of all rows and columns in a Pandas dataframe\n",
    "pd.set_option(\"display.max_rows\", None, \"display.max_columns\", None)\n",
    "\n",
    "%matplotlib inline"
   ]
  },
  {
   "cell_type": "markdown",
   "metadata": {
    "id": "jWJhsek-34kb"
   },
   "source": [
    "![green-divider](https://user-images.githubusercontent.com/7065401/52071924-c003ad80-2562-11e9-8297-1c6595f8a7ff.png)\n",
    "\n",
    "## Loading our data:"
   ]
  },
  {
   "cell_type": "code",
   "execution_count": null,
   "metadata": {
    "id": "HbAl2a--vwoc"
   },
   "outputs": [],
   "source": [
    "# Function to automate and permit easier access to Postgre SQL database using Pandas built-in tool\n",
    "def create_pandas_table(params, sql_query, index_col=None, parse_dates=None):\n",
    "    conn = psycopg2.connect(**params)\n",
    "    cur = conn.cursor()\n",
    "    table = pd.read_sql_query(sql_query, conn, index_col, parse_dates)\n",
    "    cur.close()\n",
    "    conn.close()\n",
    "    return table"
   ]
  },
  {
   "cell_type": "code",
   "execution_count": null,
   "metadata": {
    "id": "aGq241TlyRaf"
   },
   "outputs": [],
   "source": [
    "# Start by defining the arguments needed for create_pandas_table function (above)\n",
    "params = {'host': 'financeacademy-ahm.c6uftkcaibeq.ap-southeast-1.rds.amazonaws.com', 'database': 'pagila', 'user': 'analyst', 'password': 'digital', 'port' : '5432'}\n",
    "sql_query = '''\n",
    "    SELECT\n",
    "        rental.rental_id, rental.rental_date, rental.return_date,\n",
    "        customer.last_name AS customer_lastname,\n",
    "        store.store_id,\n",
    "        city.city AS rental_store_city,\n",
    "        film.title AS film_title, film.rental_duration AS film_rental_duration,\n",
    "        film.rental_rate AS film_rental_rate, film.replacement_cost AS film_replacement_cost,\n",
    "        film.rating AS film_rating\n",
    "    FROM rental\n",
    "    INNER JOIN customer ON rental.customer_id = customer.customer_id\n",
    "    INNER JOIN inventory ON rental.inventory_id = inventory.inventory_id\n",
    "    INNER JOIN store ON inventory.store_id = store.store_id\n",
    "    INNER JOIN address ON store.address_id = address.address_id\n",
    "    INNER JOIN city ON address.city_id = city.city_id\n",
    "    INNER JOIN film ON inventory.film_id = film.film_id\n",
    "    ORDER BY rental_id;\n",
    "'''\n",
    "parse_dates=['rental_date', 'return_date']\n",
    "index_col='rental_id'\n",
    "\n",
    "# Now run the function after defining all its arguments / parameters\n",
    "df = create_pandas_table(params, sql_query,index_col, parse_dates)"
   ]
  },
  {
   "cell_type": "markdown",
   "metadata": {
    "id": "HeDXKTB934kc"
   },
   "source": [
    "![green-divider](https://user-images.githubusercontent.com/7065401/52071924-c003ad80-2562-11e9-8297-1c6595f8a7ff.png)\n",
    "\n",
    "## The data at a glance:"
   ]
  },
  {
   "cell_type": "code",
   "execution_count": null,
   "metadata": {
    "colab": {
     "base_uri": "https://localhost:8080/",
     "height": 235
    },
    "id": "rv_FSYkH34kc",
    "outputId": "ec941fe9-871e-4238-d3cd-08e228b891cb"
   },
   "outputs": [],
   "source": [
    "df.head()"
   ]
  },
  {
   "cell_type": "code",
   "execution_count": null,
   "metadata": {
    "colab": {
     "base_uri": "https://localhost:8080/"
    },
    "id": "y1TcVfnu34kd",
    "outputId": "0c944fc1-589c-4e11-fa04-b0bc21c9cbdd"
   },
   "outputs": [],
   "source": [
    "df.shape"
   ]
  },
  {
   "cell_type": "code",
   "execution_count": null,
   "metadata": {
    "colab": {
     "base_uri": "https://localhost:8080/"
    },
    "id": "LQuzIyKR34ke",
    "outputId": "e19e10b6-b3c6-445a-e6e4-e81b56947485"
   },
   "outputs": [],
   "source": [
    "df.info()"
   ]
  },
  {
   "cell_type": "code",
   "execution_count": null,
   "metadata": {
    "colab": {
     "base_uri": "https://localhost:8080/",
     "height": 297
    },
    "id": "o4-Vla9P34ke",
    "outputId": "d10d6660-3393-43e4-e434-7dff1fd34d7f"
   },
   "outputs": [],
   "source": [
    "df.describe()"
   ]
  },
  {
   "cell_type": "markdown",
   "metadata": {
    "id": "lntwDqwj34ke"
   },
   "source": [
    "![green-divider](https://user-images.githubusercontent.com/7065401/52071924-c003ad80-2562-11e9-8297-1c6595f8a7ff.png)\n",
    "\n",
    "## Numerical analysis and visualization\n",
    "\n",
    "We'll analyze the `film_rental_rate` column:"
   ]
  },
  {
   "cell_type": "code",
   "execution_count": null,
   "metadata": {
    "colab": {
     "base_uri": "https://localhost:8080/"
    },
    "id": "fu8qE7DX34kf",
    "outputId": "bb1698a8-5b73-4240-a8ad-76f331edc3d7"
   },
   "outputs": [],
   "source": [
    "df['film_rental_rate'].describe()"
   ]
  },
  {
   "cell_type": "code",
   "execution_count": null,
   "metadata": {
    "colab": {
     "base_uri": "https://localhost:8080/"
    },
    "id": "cT1OA9c334kf",
    "outputId": "a09ce79e-c8d3-4f0f-e69c-27d3649784d3"
   },
   "outputs": [],
   "source": [
    "round(df['film_rental_rate'].mean(),2)"
   ]
  },
  {
   "cell_type": "code",
   "execution_count": null,
   "metadata": {
    "colab": {
     "base_uri": "https://localhost:8080/"
    },
    "id": "NpjIHu2s34kf",
    "outputId": "71d3e373-9025-4c3e-fbd7-05f6d68d724d"
   },
   "outputs": [],
   "source": [
    "round(df['film_rental_rate'].median(),2)"
   ]
  },
  {
   "cell_type": "code",
   "execution_count": null,
   "metadata": {
    "colab": {
     "base_uri": "https://localhost:8080/",
     "height": 391
    },
    "id": "PCOYVTzQ34kf",
    "outputId": "9a51ac6c-3649-47a3-aac0-b218163386cf"
   },
   "outputs": [],
   "source": [
    "df['film_rental_rate'].plot(kind='box', vert=False, figsize=(14,6))"
   ]
  },
  {
   "cell_type": "code",
   "execution_count": null,
   "metadata": {
    "colab": {
     "base_uri": "https://localhost:8080/",
     "height": 391
    },
    "id": "8sht-8Jh34kg",
    "outputId": "539c8943-409b-4f07-df9e-ae91c2c1b639"
   },
   "outputs": [],
   "source": [
    "df['film_rental_rate'].plot(kind='density', figsize=(14,6)) # kde"
   ]
  },
  {
   "cell_type": "code",
   "execution_count": null,
   "metadata": {
    "colab": {
     "base_uri": "https://localhost:8080/",
     "height": 403
    },
    "id": "65JaqUuu34kg",
    "outputId": "76e43723-041d-471e-a058-fc81361788c4"
   },
   "outputs": [],
   "source": [
    "ax = df['film_rental_rate'].value_counts().plot(kind='bar', figsize=(14,6))\n",
    "ax.set_ylabel('Number of Rentals')"
   ]
  },
  {
   "cell_type": "markdown",
   "metadata": {
    "id": "7rb-0jq734kg"
   },
   "source": [
    "![green-divider](https://user-images.githubusercontent.com/7065401/52071924-c003ad80-2562-11e9-8297-1c6595f8a7ff.png)\n",
    "\n",
    "## Categorical analysis and visualization\n",
    "\n",
    "We'll analyze the `rental_store_city` column:"
   ]
  },
  {
   "cell_type": "code",
   "execution_count": null,
   "metadata": {
    "colab": {
     "base_uri": "https://localhost:8080/"
    },
    "id": "TyCu5VIt34kh",
    "outputId": "84bd4bac-be6e-43be-f2e2-5e77b94e2cc1"
   },
   "outputs": [],
   "source": [
    "df['rental_store_city'].value_counts()"
   ]
  },
  {
   "cell_type": "code",
   "execution_count": null,
   "metadata": {
    "colab": {
     "base_uri": "https://localhost:8080/",
     "height": 374
    },
    "id": "f91l6DeT34kh",
    "outputId": "27285204-4bf8-431b-bf42-aaf16cb93ac3"
   },
   "outputs": [],
   "source": [
    "df['rental_store_city'].value_counts().plot(kind='pie', figsize=(6,6))"
   ]
  },
  {
   "cell_type": "code",
   "execution_count": null,
   "metadata": {
    "colab": {
     "base_uri": "https://localhost:8080/",
     "height": 435
    },
    "id": "-gt8xItm34kh",
    "outputId": "666a0a07-d1d8-4d44-bf32-10d789d102fc"
   },
   "outputs": [],
   "source": [
    "ax = df['rental_store_city'].value_counts().plot(kind='bar', figsize=(14,6))\n",
    "ax.set_ylabel('Number of Rentals')"
   ]
  },
  {
   "cell_type": "markdown",
   "metadata": {
    "id": "Ko3cTQ5j34ki"
   },
   "source": [
    "![green-divider](https://user-images.githubusercontent.com/7065401/52071924-c003ad80-2562-11e9-8297-1c6595f8a7ff.png)\n",
    "\n",
    "## Column wrangling\n",
    "\n",
    "We can also create new columns or modify existing ones.\n",
    "\n",
    "### Add and calculate a new `rental_rate_return` column\n",
    "\n",
    "We want to know the rental rate of return of each film. To do that we'll use this formula:\n",
    "\n",
    "$$ rental\\_gain\\_return = \\frac{film\\_rental\\_rate}{film\\_replacement\\_cost} * 100 $$"
   ]
  },
  {
   "cell_type": "code",
   "execution_count": null,
   "metadata": {
    "colab": {
     "base_uri": "https://localhost:8080/"
    },
    "id": "TTQ3J6j734ki",
    "outputId": "b929ae51-9fd7-4c7e-a672-c99cc278d5cf"
   },
   "outputs": [],
   "source": [
    "df['rental_gain_return'] = df['film_rental_rate'] / df['film_replacement_cost'] * 100\n",
    "\n",
    "df['rental_gain_return'].head()"
   ]
  },
  {
   "cell_type": "code",
   "execution_count": null,
   "metadata": {
    "colab": {
     "base_uri": "https://localhost:8080/",
     "height": 391
    },
    "id": "wlT1iRaU34ki",
    "outputId": "50065277-343a-4d39-edfe-787250ab2a7d"
   },
   "outputs": [],
   "source": [
    "df['rental_gain_return'].plot(kind='density', figsize=(14,6))"
   ]
  },
  {
   "cell_type": "code",
   "execution_count": null,
   "metadata": {
    "colab": {
     "base_uri": "https://localhost:8080/"
    },
    "id": "u2M9QlnW34ki",
    "outputId": "e43b8d7e-4419-4a34-ed83-a3a5ce9fb364"
   },
   "outputs": [],
   "source": [
    "round(df['rental_gain_return'].mean(), 2)"
   ]
  },
  {
   "cell_type": "code",
   "execution_count": null,
   "metadata": {
    "colab": {
     "base_uri": "https://localhost:8080/"
    },
    "id": "4R90OGRr34kj",
    "outputId": "b4569614-0d65-44a3-e0c1-2d8c3a26c9a1"
   },
   "outputs": [],
   "source": [
    "round(df['rental_gain_return'].median(),2)"
   ]
  },
  {
   "cell_type": "code",
   "execution_count": null,
   "metadata": {
    "colab": {
     "base_uri": "https://localhost:8080/",
     "height": 391
    },
    "id": "4h7dP-K834kj",
    "outputId": "5ca32794-4efa-41d5-e32d-8016e98a3348",
    "scrolled": true
   },
   "outputs": [],
   "source": [
    "ax = df['rental_gain_return'].plot(kind='density', figsize=(14,6)) # kde\n",
    "ax.axvline(df['rental_gain_return'].mean(), color='red')\n",
    "ax.axvline(df['rental_gain_return'].median(), color='green')"
   ]
  },
  {
   "cell_type": "markdown",
   "metadata": {
    "id": "2TOQZBsE34kj"
   },
   "source": [
    "> Each rental represents <b>13.6%</b> of film cost."
   ]
  },
  {
   "cell_type": "markdown",
   "metadata": {
    "id": "O9gweJRk34kj"
   },
   "source": [
    "So <b>7.35</b> rentals are needed to recover film market price (`film_replacement_cost`)"
   ]
  },
  {
   "cell_type": "code",
   "execution_count": null,
   "metadata": {
    "colab": {
     "base_uri": "https://localhost:8080/"
    },
    "id": "quUpdoqa34kj",
    "outputId": "e1449531-7bfe-4ba6-9b38-56c892291a70"
   },
   "outputs": [],
   "source": [
    "100 / 13.6"
   ]
  },
  {
   "cell_type": "markdown",
   "metadata": {
    "id": "tgIQ6ei034kk"
   },
   "source": [
    "While in average each film is rented <b>16.74</b> times."
   ]
  },
  {
   "cell_type": "code",
   "execution_count": null,
   "metadata": {
    "colab": {
     "base_uri": "https://localhost:8080/"
    },
    "id": "XmI_IUO534kk",
    "outputId": "a00c5d0c-a885-4f98-d34a-4ccd2cde7290"
   },
   "outputs": [],
   "source": [
    "df['film_title'].value_counts().mean()"
   ]
  },
  {
   "cell_type": "markdown",
   "metadata": {
    "id": "oKy3VSxo34kk"
   },
   "source": [
    "![green-divider](https://user-images.githubusercontent.com/7065401/52071924-c003ad80-2562-11e9-8297-1c6595f8a7ff.png)\n",
    "\n",
    "## Selection & Indexing:"
   ]
  },
  {
   "cell_type": "markdown",
   "metadata": {
    "id": "mILC4Px234kk"
   },
   "source": [
    "### Get the rental records of the customer with lastname `HANSEN`"
   ]
  },
  {
   "cell_type": "code",
   "execution_count": null,
   "metadata": {
    "colab": {
     "base_uri": "https://localhost:8080/",
     "height": 731
    },
    "id": "oLHnEez434kk",
    "outputId": "169307d3-b7bb-46d9-c3ef-37af1b4fe718"
   },
   "outputs": [],
   "source": [
    "df_export = df.loc[df['customer_lastname'] == 'HANSEN']"
   ]
  },
  {
   "cell_type": "code",
   "execution_count": null,
   "metadata": {},
   "outputs": [],
   "source": [
    "df_export"
   ]
  },
  {
   "cell_type": "code",
   "execution_count": null,
   "metadata": {},
   "outputs": [],
   "source": [
    "df_export.to_csv('hansen.csv', index=True)\n",
    "!ls"
   ]
  },
  {
   "cell_type": "code",
   "execution_count": null,
   "metadata": {},
   "outputs": [],
   "source": [
    "# Only run these lines when using Colab\n",
    "# from google.colab import files\n",
    "# files.download('hansen.csv')"
   ]
  },
  {
   "cell_type": "markdown",
   "metadata": {
    "id": "SjhzzEkV34kl"
   },
   "source": [
    "### Create a list of all the films with the highest replacement cost"
   ]
  },
  {
   "cell_type": "code",
   "execution_count": null,
   "metadata": {
    "colab": {
     "base_uri": "https://localhost:8080/"
    },
    "id": "KKrbWBaH34kl",
    "outputId": "ffc231c2-b143-401d-ebc0-bcc18728c547"
   },
   "outputs": [],
   "source": [
    "df['film_replacement_cost'].max()"
   ]
  },
  {
   "cell_type": "code",
   "execution_count": null,
   "metadata": {
    "colab": {
     "base_uri": "https://localhost:8080/"
    },
    "id": "N3svSM8n34kl",
    "outputId": "3017a92c-7aab-46fb-afba-4da5a1c1537c"
   },
   "outputs": [],
   "source": [
    "df.loc[df['film_replacement_cost'] == df['film_replacement_cost'].max(), 'film_title'].unique()"
   ]
  },
  {
   "cell_type": "markdown",
   "metadata": {
    "id": "89s4rKqp34kl"
   },
   "source": [
    "### How many `PG` or `PG-13` rating films were rented?"
   ]
  },
  {
   "cell_type": "code",
   "execution_count": null,
   "metadata": {
    "colab": {
     "base_uri": "https://localhost:8080/"
    },
    "id": "BvetDOE334kl",
    "outputId": "e905008b-9fc8-44ba-c413-ad147ca5dd14"
   },
   "outputs": [],
   "source": [
    "df.loc[(df['film_rating'] == 'PG') | (df['film_rating'] == 'PG-13')].shape[0]"
   ]
  },
  {
   "cell_type": "markdown",
   "metadata": {
    "id": "Zc5blKav34km"
   },
   "source": [
    "![purple-divider](https://user-images.githubusercontent.com/7065401/52071927-c1cd7100-2562-11e9-908a-dde91ba14e59.png)"
   ]
  }
 ],
 "metadata": {
  "colab": {
   "collapsed_sections": [],
   "name": "dvd_rentals.ipynb",
   "provenance": []
  },
  "kernelspec": {
   "display_name": "Python386",
   "language": "python",
   "name": "python386"
  },
  "language_info": {
   "codemirror_mode": {
    "name": "ipython",
    "version": 3
   },
   "file_extension": ".py",
   "mimetype": "text/x-python",
   "name": "python",
   "nbconvert_exporter": "python",
   "pygments_lexer": "ipython3",
   "version": "3.8.6"
  }
 },
 "nbformat": 4,
 "nbformat_minor": 1
}
