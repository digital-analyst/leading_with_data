{
 "cells": [
  {
   "cell_type": "markdown",
   "metadata": {
    "id": "tLgrQugTq5DN"
   },
   "source": [
    "<img src=\"https://user-images.githubusercontent.com/7065401/58563302-42466a80-8201-11e9-9948-b3e9f88a5662.jpg\"\n",
    "    style=\"width:400px; float: right; margin: 0 40px 40px 40px;\"></img>\n",
    "\n",
    "# Bike store sales\n",
    "\n",
    "In this class we'll be analyzing sales made on bike stores.\n",
    "\n",
    "[Follow this data in a Google Spreadsheet](https://docs.google.com/spreadsheets/d/1NOe_UrPx6ULF2C5MvHmZ9ODuw8t9M77Q1Y64gP-7JHA/edit?usp=sharing)"
   ]
  },
  {
   "cell_type": "markdown",
   "metadata": {
    "id": "CEHZIa1wq5DS"
   },
   "source": [
    "![purple-divider](https://user-images.githubusercontent.com/7065401/52071927-c1cd7100-2562-11e9-908a-dde91ba14e59.png)\n",
    "\n",
    "## Hands on! "
   ]
  },
  {
   "cell_type": "code",
   "execution_count": null,
   "metadata": {
    "id": "ycj90fGQq5DT"
   },
   "outputs": [],
   "source": [
    "import numpy as np\n",
    "import pandas as pd\n",
    "import matplotlib.pyplot as plt\n",
    "\n",
    "%matplotlib inline"
   ]
  },
  {
   "cell_type": "markdown",
   "metadata": {
    "id": "b9Oms74Eq5DT"
   },
   "source": [
    "![green-divider](https://user-images.githubusercontent.com/7065401/52071924-c003ad80-2562-11e9-8297-1c6595f8a7ff.png)\n",
    "\n",
    "## Loading our data:"
   ]
  },
  {
   "cell_type": "code",
   "execution_count": null,
   "metadata": {
    "id": "Gjw94VQKq5DV"
   },
   "outputs": [],
   "source": [
    "sales = pd.read_csv(\n",
    "    'https://drive.google.com/uc?id=1e6bOqNGBMrbWbvTg-VTXxwsq-ju8hAhv',\n",
    "    parse_dates=['Date'])"
   ]
  },
  {
   "cell_type": "markdown",
   "metadata": {
    "id": "1gum3Zm6q5DV"
   },
   "source": [
    "![green-divider](https://user-images.githubusercontent.com/7065401/52071924-c003ad80-2562-11e9-8297-1c6595f8a7ff.png)\n",
    "\n",
    "## The data at a glance:"
   ]
  },
  {
   "cell_type": "code",
   "execution_count": null,
   "metadata": {
    "colab": {
     "base_uri": "https://localhost:8080/",
     "height": 204
    },
    "id": "UlV6x8XPq5DW",
    "outputId": "2f3dbce4-68b3-43e5-c4aa-437940dcd9bb"
   },
   "outputs": [],
   "source": [
    "sales.head()"
   ]
  },
  {
   "cell_type": "code",
   "execution_count": null,
   "metadata": {
    "colab": {
     "base_uri": "https://localhost:8080/"
    },
    "id": "ECbz8mcQq5DW",
    "outputId": "fd1f9006-7fcd-4a31-f781-d4703ee7f7da"
   },
   "outputs": [],
   "source": [
    "sales.shape"
   ]
  },
  {
   "cell_type": "code",
   "execution_count": null,
   "metadata": {
    "colab": {
     "base_uri": "https://localhost:8080/"
    },
    "id": "sWGKW7PPq5DW",
    "outputId": "73467985-fa31-4000-ad7d-a706cff651e6"
   },
   "outputs": [],
   "source": [
    "sales.info()"
   ]
  },
  {
   "cell_type": "code",
   "execution_count": null,
   "metadata": {
    "colab": {
     "base_uri": "https://localhost:8080/",
     "height": 297
    },
    "id": "_TDSrTEWq5DX",
    "outputId": "5fbfaba5-60fb-4618-bec9-80929dca9458"
   },
   "outputs": [],
   "source": [
    "sales.describe()"
   ]
  },
  {
   "cell_type": "markdown",
   "metadata": {
    "id": "QtK-mmfcq5DX"
   },
   "source": [
    "![green-divider](https://user-images.githubusercontent.com/7065401/52071924-c003ad80-2562-11e9-8297-1c6595f8a7ff.png)\n",
    "\n",
    "## Numerical analysis and visualization\n",
    "\n",
    "We'll analyze the `Unit_Cost` column:"
   ]
  },
  {
   "cell_type": "code",
   "execution_count": null,
   "metadata": {
    "colab": {
     "base_uri": "https://localhost:8080/"
    },
    "id": "ur0lUGXYq5DX",
    "outputId": "06f8b6dd-36f5-43c6-df32-5bd8cb61cfec"
   },
   "outputs": [],
   "source": [
    "sales['Unit_Cost'].describe()"
   ]
  },
  {
   "cell_type": "code",
   "execution_count": null,
   "metadata": {
    "colab": {
     "base_uri": "https://localhost:8080/"
    },
    "id": "8VTpquV7q5DX",
    "outputId": "93169d2b-1701-4a49-9e3a-686d7f8f91e0"
   },
   "outputs": [],
   "source": [
    "sales['Unit_Cost'].mean()"
   ]
  },
  {
   "cell_type": "code",
   "execution_count": null,
   "metadata": {
    "colab": {
     "base_uri": "https://localhost:8080/"
    },
    "id": "3E7Fq-dOq5DY",
    "outputId": "269704ec-6c7a-48eb-c465-eef9880bbd83"
   },
   "outputs": [],
   "source": [
    "sales['Unit_Cost'].median()"
   ]
  },
  {
   "cell_type": "code",
   "execution_count": null,
   "metadata": {
    "colab": {
     "base_uri": "https://localhost:8080/",
     "height": 391
    },
    "id": "xNrsh6G1q5DY",
    "outputId": "cc03dc90-dcc9-45d4-f988-73eeedcf8980"
   },
   "outputs": [],
   "source": [
    "sales['Unit_Cost'].plot(kind='box', vert=False, figsize=(14,6))"
   ]
  },
  {
   "cell_type": "code",
   "execution_count": null,
   "metadata": {
    "colab": {
     "base_uri": "https://localhost:8080/",
     "height": 391
    },
    "id": "IDmq3iTuq5DY",
    "outputId": "b6133dbc-cf0d-4e4b-9afe-80e0e905c24f"
   },
   "outputs": [],
   "source": [
    "sales['Unit_Cost'].plot(kind='density', figsize=(14,6)) # kde"
   ]
  },
  {
   "cell_type": "code",
   "execution_count": null,
   "metadata": {
    "colab": {
     "base_uri": "https://localhost:8080/",
     "height": 391
    },
    "id": "NKer4e9fq5DZ",
    "outputId": "e1f553e5-caf7-4576-df05-e40ce8384fdb"
   },
   "outputs": [],
   "source": [
    "ax = sales['Unit_Cost'].plot(kind='density', figsize=(14,6)) # kde\n",
    "ax.axvline(sales['Unit_Cost'].mean(), color='red')\n",
    "ax.axvline(sales['Unit_Cost'].median(), color='green')"
   ]
  },
  {
   "cell_type": "code",
   "execution_count": null,
   "metadata": {
    "colab": {
     "base_uri": "https://localhost:8080/",
     "height": 405
    },
    "id": "nZ2huKTwq5DZ",
    "outputId": "981005fe-ed64-4624-a919-5feafc4f5f6a"
   },
   "outputs": [],
   "source": [
    "ax = sales['Unit_Cost'].plot(kind='hist', figsize=(14,6))\n",
    "ax.set_ylabel('Number of Sales')\n",
    "ax.set_xlabel('dollars')"
   ]
  },
  {
   "cell_type": "markdown",
   "metadata": {
    "id": "IHZuzXxnq5DZ"
   },
   "source": [
    "![green-divider](https://user-images.githubusercontent.com/7065401/52071924-c003ad80-2562-11e9-8297-1c6595f8a7ff.png)\n",
    "\n",
    "## Categorical analysis and visualization\n",
    "\n",
    "We'll analyze the `Age_Group` column:"
   ]
  },
  {
   "cell_type": "code",
   "execution_count": null,
   "metadata": {
    "colab": {
     "base_uri": "https://localhost:8080/",
     "height": 204
    },
    "id": "o3x-D55kq5DZ",
    "outputId": "f16dc8a7-a1dd-49b1-c5ae-1fabf0e44fa6"
   },
   "outputs": [],
   "source": [
    "sales.head()"
   ]
  },
  {
   "cell_type": "code",
   "execution_count": null,
   "metadata": {
    "colab": {
     "base_uri": "https://localhost:8080/"
    },
    "id": "RE_GyX9Yq5Da",
    "outputId": "6547bbe8-4a39-4319-d488-c5fc9635cd06"
   },
   "outputs": [],
   "source": [
    "sales['Age_Group'].value_counts()"
   ]
  },
  {
   "cell_type": "code",
   "execution_count": null,
   "metadata": {
    "colab": {
     "base_uri": "https://localhost:8080/",
     "height": 374
    },
    "id": "AronGHP2q5Da",
    "outputId": "505fab90-1d70-4dac-849f-c3e9540e286f"
   },
   "outputs": [],
   "source": [
    "sales['Age_Group'].value_counts().plot(kind='pie', figsize=(6,6))"
   ]
  },
  {
   "cell_type": "code",
   "execution_count": null,
   "metadata": {
    "colab": {
     "base_uri": "https://localhost:8080/",
     "height": 485
    },
    "id": "oGb5BGdqq5Da",
    "outputId": "8e809c87-8555-4ad4-bdef-f435760f2d95"
   },
   "outputs": [],
   "source": [
    "ax = sales['Age_Group'].value_counts().plot(kind='bar', figsize=(14,6))\n",
    "ax.set_ylabel('Number of Sales')"
   ]
  },
  {
   "cell_type": "markdown",
   "metadata": {
    "id": "y_6ZPsRtq5Da"
   },
   "source": [
    "![green-divider](https://user-images.githubusercontent.com/7065401/52071924-c003ad80-2562-11e9-8297-1c6595f8a7ff.png)\n",
    "\n",
    "## Relationship between the columns?\n",
    "\n",
    "Can we find any significant relationship?"
   ]
  },
  {
   "cell_type": "code",
   "execution_count": null,
   "metadata": {
    "colab": {
     "base_uri": "https://localhost:8080/",
     "height": 328
    },
    "id": "AZxVi_TPq5Db",
    "outputId": "48ffbbcb-7038-41b5-9734-84bbdd92028a"
   },
   "outputs": [],
   "source": [
    "corr = sales.corr()\n",
    "\n",
    "corr"
   ]
  },
  {
   "cell_type": "code",
   "execution_count": null,
   "metadata": {
    "colab": {
     "base_uri": "https://localhost:8080/",
     "height": 564
    },
    "id": "fHuYz4LQq5Db",
    "outputId": "f147f2e3-5d03-4d7b-d4da-7c6b18fe4006"
   },
   "outputs": [],
   "source": [
    "fig = plt.figure(figsize=(8,8))\n",
    "plt.matshow(corr, cmap='RdBu', fignum=fig.number)\n",
    "plt.xticks(range(len(corr.columns)), corr.columns, rotation='vertical');\n",
    "plt.yticks(range(len(corr.columns)), corr.columns);"
   ]
  },
  {
   "cell_type": "code",
   "execution_count": null,
   "metadata": {
    "colab": {
     "base_uri": "https://localhost:8080/",
     "height": 406
    },
    "id": "a8oLjVIxq5Db",
    "outputId": "648d7d7a-eb03-4aed-c198-0f318864f48f"
   },
   "outputs": [],
   "source": [
    "sales.plot(kind='scatter', x='Customer_Age', y='Revenue', figsize=(6,6))"
   ]
  },
  {
   "cell_type": "code",
   "execution_count": null,
   "metadata": {
    "colab": {
     "base_uri": "https://localhost:8080/",
     "height": 405
    },
    "id": "8xciPpRJq5Db",
    "outputId": "f064b7b0-de1b-4bf9-db9f-ddd87f88d479"
   },
   "outputs": [],
   "source": [
    "sales.plot(kind='scatter', x='Revenue', y='Profit', figsize=(6,6))"
   ]
  },
  {
   "cell_type": "code",
   "execution_count": null,
   "metadata": {
    "colab": {
     "base_uri": "https://localhost:8080/",
     "height": 492
    },
    "id": "SCDiKhEcq5Db",
    "outputId": "1f1dd20e-92db-40d9-d2ba-1300c30d59b8"
   },
   "outputs": [],
   "source": [
    "ax = sales[['Profit', 'Age_Group']].boxplot(by='Age_Group', figsize=(10,6))\n",
    "ax.set_ylabel('Profit')"
   ]
  },
  {
   "cell_type": "code",
   "execution_count": null,
   "metadata": {
    "colab": {
     "base_uri": "https://localhost:8080/",
     "height": 605
    },
    "id": "y-m2SJRlq5Dc",
    "outputId": "e3c2dd36-b54d-4986-dd64-66834cf36eef"
   },
   "outputs": [],
   "source": [
    "boxplot_cols = ['Year', 'Customer_Age', 'Order_Quantity', 'Unit_Cost', 'Unit_Price', 'Profit']\n",
    "\n",
    "sales[boxplot_cols].plot(kind='box', subplots=True, layout=(2,3), figsize=(14,8))"
   ]
  },
  {
   "cell_type": "markdown",
   "metadata": {
    "id": "yvvK5mRWq5Dc"
   },
   "source": [
    "![green-divider](https://user-images.githubusercontent.com/7065401/52071924-c003ad80-2562-11e9-8297-1c6595f8a7ff.png)\n",
    "\n",
    "## Column wrangling\n",
    "\n",
    "We can also create new columns or modify existing ones.\n",
    "\n",
    "### Add and calculate a new `Revenue_per_Age` column"
   ]
  },
  {
   "cell_type": "code",
   "execution_count": null,
   "metadata": {
    "colab": {
     "base_uri": "https://localhost:8080/"
    },
    "id": "27vYlDOIq5Dc",
    "outputId": "6c598066-9e9d-4ed7-8546-aa8ac2118ebb"
   },
   "outputs": [],
   "source": [
    "sales['Revenue_per_Age'] = sales['Revenue'] / sales['Customer_Age']\n",
    "\n",
    "sales['Revenue_per_Age'].head()"
   ]
  },
  {
   "cell_type": "code",
   "execution_count": null,
   "metadata": {
    "colab": {
     "base_uri": "https://localhost:8080/",
     "height": 395
    },
    "id": "pXKRzNbFq5Dc",
    "outputId": "525711b8-cff7-4048-cd40-53758fbc5793"
   },
   "outputs": [],
   "source": [
    "sales['Revenue_per_Age'].plot(kind='density', figsize=(14,6))"
   ]
  },
  {
   "cell_type": "code",
   "execution_count": null,
   "metadata": {
    "colab": {
     "base_uri": "https://localhost:8080/",
     "height": 391
    },
    "id": "ZWMWd_LCq5Dd",
    "outputId": "89c2b408-dfa5-4cd3-f8c1-309595f22c59"
   },
   "outputs": [],
   "source": [
    "sales['Revenue_per_Age'].plot(kind='hist', figsize=(14,6))"
   ]
  },
  {
   "cell_type": "markdown",
   "metadata": {
    "id": "B-8GwIXyq5Dd"
   },
   "source": [
    "### Add and calculate a new `Calculated_Cost` column\n",
    "\n",
    "Use this formula\n",
    "\n",
    "$$ Calculated\\_Cost = Order\\_Quantity * Unit\\_Cost $$"
   ]
  },
  {
   "cell_type": "code",
   "execution_count": null,
   "metadata": {
    "colab": {
     "base_uri": "https://localhost:8080/"
    },
    "id": "Xzaz6Hugq5Dd",
    "outputId": "950f0fb9-c0a7-4d8a-a6ea-3d7c0a1e8e01"
   },
   "outputs": [],
   "source": [
    "sales['Calculated_Cost'] = sales['Order_Quantity'] * sales['Unit_Cost']\n",
    "\n",
    "sales['Calculated_Cost'].head()"
   ]
  },
  {
   "cell_type": "code",
   "execution_count": null,
   "metadata": {
    "colab": {
     "base_uri": "https://localhost:8080/"
    },
    "id": "YAJfQ2Rlq5Dd",
    "outputId": "c4d1c067-fbae-4d04-8765-f2bae753ae6b"
   },
   "outputs": [],
   "source": [
    "(sales['Calculated_Cost'] != sales['Cost']).sum()"
   ]
  },
  {
   "cell_type": "markdown",
   "metadata": {
    "id": "k_kDCPVZq5De"
   },
   "source": [
    "We can see the relationship between `Cost` and `Profit` using a scatter plot:"
   ]
  },
  {
   "cell_type": "code",
   "execution_count": null,
   "metadata": {
    "colab": {
     "base_uri": "https://localhost:8080/",
     "height": 406
    },
    "id": "jxVnhR8Dq5De",
    "outputId": "a460865e-0064-4ac8-e1df-ef77ab0d108c"
   },
   "outputs": [],
   "source": [
    "sales.plot(kind='scatter', x='Calculated_Cost', y='Profit', figsize=(6,6))"
   ]
  },
  {
   "cell_type": "markdown",
   "metadata": {
    "id": "JDKKfXzzq5De"
   },
   "source": [
    "### Add and calculate a new `Calculated_Revenue` column\n",
    "\n",
    "Use this formula\n",
    "\n",
    "$$ Calculated\\_Revenue = Cost + Profit $$"
   ]
  },
  {
   "cell_type": "code",
   "execution_count": null,
   "metadata": {
    "colab": {
     "base_uri": "https://localhost:8080/"
    },
    "id": "Vy1EIb_Qq5De",
    "outputId": "d8f39d28-758c-4c3f-b1f4-a4fcd39a1754"
   },
   "outputs": [],
   "source": [
    "sales['Calculated_Revenue'] = sales['Cost'] + sales['Profit']\n",
    "\n",
    "sales['Calculated_Revenue'].head()"
   ]
  },
  {
   "cell_type": "code",
   "execution_count": null,
   "metadata": {
    "colab": {
     "base_uri": "https://localhost:8080/"
    },
    "id": "C7RQGCkzq5De",
    "outputId": "79e1d6a9-108c-4e6e-fe4c-f185c3de578c"
   },
   "outputs": [],
   "source": [
    "(sales['Calculated_Revenue'] != sales['Revenue']).sum()"
   ]
  },
  {
   "cell_type": "code",
   "execution_count": null,
   "metadata": {
    "colab": {
     "base_uri": "https://localhost:8080/",
     "height": 394
    },
    "id": "ozOPip0Zq5Df",
    "outputId": "6d617cf4-8606-4d26-aee4-8b8eec086ba6"
   },
   "outputs": [],
   "source": [
    "sales.head()"
   ]
  },
  {
   "cell_type": "code",
   "execution_count": null,
   "metadata": {
    "colab": {
     "base_uri": "https://localhost:8080/",
     "height": 391
    },
    "id": "gGM2AduBq5Df",
    "outputId": "8ca1b623-3cd7-4a04-f5bb-21bda7f0168f"
   },
   "outputs": [],
   "source": [
    "sales['Revenue'].plot(kind='hist', bins=100, figsize=(14,6))"
   ]
  },
  {
   "cell_type": "markdown",
   "metadata": {
    "id": "XA7laeVcq5Df"
   },
   "source": [
    "### Modify all `Unit_Price` values adding 3% tax to them"
   ]
  },
  {
   "cell_type": "code",
   "execution_count": null,
   "metadata": {
    "colab": {
     "base_uri": "https://localhost:8080/"
    },
    "id": "IL5lopAaq5Df",
    "outputId": "529d6d1d-8053-4322-e548-d87e3dc761d8"
   },
   "outputs": [],
   "source": [
    "sales['Unit_Price'].head()"
   ]
  },
  {
   "cell_type": "code",
   "execution_count": null,
   "metadata": {
    "id": "x_OAkUawq5Df"
   },
   "outputs": [],
   "source": [
    "#sales['Unit_Price'] = sales['Unit_Price'] * 1.03\n",
    "\n",
    "sales['Unit_Price'] *= 1.03"
   ]
  },
  {
   "cell_type": "code",
   "execution_count": null,
   "metadata": {
    "colab": {
     "base_uri": "https://localhost:8080/"
    },
    "id": "ugaDAoQ1q5Dg",
    "outputId": "7b136af5-d30c-4fc4-d460-2bef5b6a83b0"
   },
   "outputs": [],
   "source": [
    "sales['Unit_Price'].head()"
   ]
  },
  {
   "cell_type": "markdown",
   "metadata": {
    "id": "LCm7ieZHq5Dg"
   },
   "source": [
    "![green-divider](https://user-images.githubusercontent.com/7065401/52071924-c003ad80-2562-11e9-8297-1c6595f8a7ff.png)\n",
    "\n",
    "## Selection & Indexing:"
   ]
  },
  {
   "cell_type": "markdown",
   "metadata": {
    "id": "vbFCq1_xq5Dg"
   },
   "source": [
    "### Get all the sales made in the state of `Kentucky`"
   ]
  },
  {
   "cell_type": "code",
   "execution_count": null,
   "metadata": {
    "colab": {
     "base_uri": "https://localhost:8080/",
     "height": 753
    },
    "id": "IpITVsa9q5Dg",
    "outputId": "bf622144-5c0d-434d-d30a-9f6796f678b3"
   },
   "outputs": [],
   "source": [
    "sales.loc[sales['State'] == 'Kentucky']"
   ]
  },
  {
   "cell_type": "markdown",
   "metadata": {
    "id": "6g1884DUq5Dg"
   },
   "source": [
    "### Get the mean revenue of the `Adults (35-64)` sales group"
   ]
  },
  {
   "cell_type": "code",
   "execution_count": null,
   "metadata": {
    "colab": {
     "base_uri": "https://localhost:8080/"
    },
    "id": "VzZ8H5C8q5Dh",
    "outputId": "07362db9-e172-409f-914c-65d055a5d04a"
   },
   "outputs": [],
   "source": [
    "sales.loc[sales['Age_Group'] == 'Adults (35-64)', 'Revenue'].mean()"
   ]
  },
  {
   "cell_type": "markdown",
   "metadata": {
    "id": "gbm0igN5q5Dh"
   },
   "source": [
    "### How many records belong to Age Group `Youth (<25)` or `Adults (35-64)`?"
   ]
  },
  {
   "cell_type": "code",
   "execution_count": null,
   "metadata": {
    "colab": {
     "base_uri": "https://localhost:8080/"
    },
    "id": "g7L2yEy0q5Dh",
    "outputId": "ed3fcd38-0bb3-4f72-e11f-3d3f30414be2"
   },
   "outputs": [],
   "source": [
    "sales.loc[(sales['Age_Group'] == 'Youth (<25)') | (sales['Age_Group'] == 'Adults (35-64)')].shape[0]"
   ]
  },
  {
   "cell_type": "markdown",
   "metadata": {
    "id": "e8C4mDxUq5Dh"
   },
   "source": [
    "### Get the mean revenue of the sales group `Adults (35-64)` in `United States`"
   ]
  },
  {
   "cell_type": "code",
   "execution_count": null,
   "metadata": {
    "colab": {
     "base_uri": "https://localhost:8080/"
    },
    "id": "soUHFfYmq5Dh",
    "outputId": "3b9efc54-0e89-461c-bfbf-76364ed1475e"
   },
   "outputs": [],
   "source": [
    "sales.loc[(sales['Age_Group'] == 'Adults (35-64)') & (sales['Country'] == 'United States'), 'Revenue'].mean()"
   ]
  },
  {
   "cell_type": "markdown",
   "metadata": {
    "id": "_cQjqCUTq5Dh"
   },
   "source": [
    "### Increase the revenue by 10% to every sale made in France"
   ]
  },
  {
   "cell_type": "code",
   "execution_count": null,
   "metadata": {
    "colab": {
     "base_uri": "https://localhost:8080/"
    },
    "id": "sFkSWvQPq5Di",
    "outputId": "695cc59b-0d77-4922-82c9-8b567e44d819"
   },
   "outputs": [],
   "source": [
    "sales.loc[sales['Country'] == 'France', 'Revenue'].head()"
   ]
  },
  {
   "cell_type": "code",
   "execution_count": null,
   "metadata": {
    "id": "DlSXMTP6q5Di"
   },
   "outputs": [],
   "source": [
    "#sales.loc[sales['Country'] == 'France', 'Revenue'] = sales.loc[sales['Country'] == 'France', 'Revenue'] * 1.1\n",
    "\n",
    "sales.loc[sales['Country'] == 'France', 'Revenue'] *= 1.1"
   ]
  },
  {
   "cell_type": "code",
   "execution_count": null,
   "metadata": {
    "colab": {
     "base_uri": "https://localhost:8080/"
    },
    "id": "8WfxuBhaq5Dj",
    "outputId": "daf678fe-62ce-4d0b-a73b-33d939edddf3"
   },
   "outputs": [],
   "source": [
    "sales.loc[sales['Country'] == 'France', 'Revenue'].head()"
   ]
  },
  {
   "cell_type": "markdown",
   "metadata": {
    "id": "7c_lm4sTq5Dj"
   },
   "source": [
    "![purple-divider](https://user-images.githubusercontent.com/7065401/52071927-c1cd7100-2562-11e9-908a-dde91ba14e59.png)"
   ]
  }
 ],
 "metadata": {
  "colab": {
   "collapsed_sections": [],
   "name": "Copy of Lecture_1.ipynb",
   "provenance": []
  },
  "kernelspec": {
   "display_name": "Python 3",
   "language": "python",
   "name": "python3"
  },
  "language_info": {
   "codemirror_mode": {
    "name": "ipython",
    "version": 3
   },
   "file_extension": ".py",
   "mimetype": "text/x-python",
   "name": "python",
   "nbconvert_exporter": "python",
   "pygments_lexer": "ipython3",
   "version": "3.7.4"
  }
 },
 "nbformat": 4,
 "nbformat_minor": 1
}
